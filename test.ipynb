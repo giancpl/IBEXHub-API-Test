{
 "cells": [
  {
   "cell_type": "markdown",
   "metadata": {},
   "source": [
    "### Authentication "
   ]
  },
  {
   "cell_type": "code",
   "execution_count": null,
   "metadata": {},
   "outputs": [],
   "source": [
    "from utils import authenticate \n",
    "\n",
    "# authentication test\n",
    "auth_tokens = authenticate()\n",
    "if auth_tokens:\n",
    "    print(\"Authentication successful!\")\n",
    "    access_token = auth_tokens.get(\"accessToken\")\n",
    "    refresh_token = auth_tokens.get(\"refreshToken\")\n",
    "    print(f\"Access Token: {access_token}\")\n",
    "    print(f\"Refresh Token: {refresh_token}\")\n",
    "else:\n",
    "    print(\"Authentication failed.\")\n"
   ]
  },
  {
   "cell_type": "markdown",
   "metadata": {},
   "source": [
    "### Refresh access token"
   ]
  },
  {
   "cell_type": "code",
   "execution_count": null,
   "metadata": {},
   "outputs": [],
   "source": [
    "from utils import refresh_access_token\n",
    "\n",
    "try:\n",
    "    print(f'Try to print the refresh token: {refresh_token}')\n",
    "except NameError:\n",
    "    print(\"The 'refresh_token' is not defined.\")\n",
    "    refresh_token = input('Insert the refresh token: ')\n",
    "\n",
    "access_token = refresh_access_token(refresh_token)\n",
    "accessToken = access_token.get('accessToken')\n",
    "print(f'AccessToken Refreshed: {accessToken}')\n"
   ]
  },
  {
   "cell_type": "markdown",
   "metadata": {},
   "source": [
    "### New Account Creation"
   ]
  },
  {
   "cell_type": "code",
   "execution_count": null,
   "metadata": {},
   "outputs": [],
   "source": [
    "from account import Account\n",
    "alice = Account('alice', accessToken)"
   ]
  },
  {
   "cell_type": "markdown",
   "metadata": {},
   "source": [
    "### Generate onchain address "
   ]
  },
  {
   "cell_type": "code",
   "execution_count": null,
   "metadata": {},
   "outputs": [],
   "source": [
    "oc_address = alice.generate_bitcoin_address(accessToken)\n",
    "oc_address = oc_address.get('address')\n",
    "\n",
    "if oc_address is not None: \n",
    "    print(f\"Bitcoin On-Chain Address: {oc_address}\") \n",
    "else:\n",
    "    print(\"Bitcoin Address generation failed.\")\n"
   ]
  },
  {
   "cell_type": "markdown",
   "metadata": {},
   "source": [
    "### Estimate fee required to send sats to your IBEXHub onchain address"
   ]
  },
  {
   "cell_type": "code",
   "execution_count": null,
   "metadata": {},
   "outputs": [],
   "source": [
    "from utils import estimate_fee\n",
    "fees = estimate_fee(accessToken, oc_address, amount=1000)\n",
    "\n",
    "if fees is not None:\n",
    "    print(f\"Estimated fees: {fees}\")\n",
    "else:\n",
    "    print(\"Error in fee estimation.\")"
   ]
  },
  {
   "cell_type": "markdown",
   "metadata": {},
   "source": [
    "### Create and associate a lightning address \n"
   ]
  },
  {
   "cell_type": "code",
   "execution_count": null,
   "metadata": {},
   "outputs": [],
   "source": [
    "ln_address = alice.create_ln_address(accessToken)\n",
    "\n",
    "if ln_address:\n",
    "    print(\"Lightning Address Created Successfully!\")\n",
    "    print(\"Details of the Lightning Address:\")\n",
    "    print(f\"Account ID: {ln_address.get('accountId')}\")\n",
    "    print(f\"Address: {ln_address.get('username')}\")\n",
    "else:\n",
    "    print(\"Failed to create Lightning Address.\")\n"
   ]
  },
  {
   "cell_type": "markdown",
   "metadata": {},
   "source": [
    "### Create a Bolt11 invoice using your lightning address"
   ]
  },
  {
   "cell_type": "code",
   "execution_count": null,
   "metadata": {},
   "outputs": [],
   "source": [
    "from utils import invoice_from_lnaddress\n",
    "\n",
    "lightning_address = ln_address.get('username')\n",
    "bolt11_invoice = invoice_from_lnaddress(accessToken, lightning_address, amount=10000, comment=\"\")\n",
    "\n",
    "if bolt11_invoice is not None:\n",
    "    print(f\"Invoice from LN address: {bolt11_invoice}\")\n",
    "else: \n",
    "    print(\"Invoice generation failed.\")"
   ]
  },
  {
   "cell_type": "markdown",
   "metadata": {},
   "source": [
    "### Create a payment Split "
   ]
  },
  {
   "cell_type": "code",
   "execution_count": null,
   "metadata": {},
   "outputs": [],
   "source": [
    "# create another user account\n",
    "paul = Account('paul', accessToken)\n",
    "albert = Account('albert', accessToken)\n",
    "\n",
    "# you can pass the same address generated before, or generate another one \n",
    "albert_address = albert.generate_bitcoin_address(accessToken).get('address')\n",
    "\n",
    "split_btc = paul.create_splits(accessToken, btc_address=albert_address)\n",
    "if split_btc is not None:\n",
    "    print(f'Bitcoin split: {split_btc}')"
   ]
  },
  {
   "cell_type": "code",
   "execution_count": null,
   "metadata": {},
   "outputs": [],
   "source": [
    "carl = Account(accessToken)\n",
    "robert = Account(accessToken)\n",
    "\n",
    "lightning_address = robert.create_ln_address(accessToken).get('username')\n",
    "\n",
    "split_ln = carl.create_splits(accessToken, ln_address=lightning_address)\n",
    "\n",
    "if split_ln is not None:\n",
    "    print(f'LN split: {split_ln}')"
   ]
  }
 ],
 "metadata": {
  "kernelspec": {
   "display_name": "Python 3",
   "language": "python",
   "name": "python3"
  },
  "language_info": {
   "codemirror_mode": {
    "name": "ipython",
    "version": 3
   },
   "file_extension": ".py",
   "mimetype": "text/x-python",
   "name": "python",
   "nbconvert_exporter": "python",
   "pygments_lexer": "ipython3",
   "version": "3.9.2"
  }
 },
 "nbformat": 4,
 "nbformat_minor": 2
}
